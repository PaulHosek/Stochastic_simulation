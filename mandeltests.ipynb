{
 "cells": [
  {
   "cell_type": "code",
   "execution_count": 1,
   "metadata": {
    "pycharm": {
     "name": "#%%\n"
    }
   },
   "outputs": [],
   "source": [
    "import area_mandelbrot as am\n",
    "import sampling_alg as sa\n",
    "\n",
    "import numpy as np\n",
    "import matplotlib.pyplot as plt\n",
    "from collections import Counter"
   ]
  },
  {
   "cell_type": "code",
   "execution_count": 27,
   "metadata": {
    "pycharm": {
     "name": "#%%\n"
    }
   },
   "outputs": [],
   "source": [
    "def area(func, bounds, s, i):\n",
    "    # Initialize the grid and create samples\n",
    "    rng = np.random.default_rng()\n",
    "    rng2 = np.random.default_rng()\n",
    "    re_min, re_max, im_min, im_max = bounds\n",
    "    area_total = (np.abs(re_min) + np.abs(re_max)) * (np.abs(im_min) + np.abs(im_max))\n",
    "    samples = func(re_min,re_max,im_min,im_max,rng,s,rng2)\n",
    "\n",
    "    # Check if the samples are part of the MB-set\n",
    "    res = am.mandelbrot(samples, i)\n",
    "    ct_res = Counter(res)\n",
    "\n",
    "    # Calculate the area\n",
    "    area_mandel = area_total * (ct_res[i-1] / (sum(ct_res.values())))\n",
    "    return area_mandel"
   ]
  },
  {
   "cell_type": "code",
   "execution_count": 28,
   "metadata": {
    "collapsed": false,
    "pycharm": {
     "name": "#%%\n"
    }
   },
   "outputs": [
    {
     "name": "stdout",
     "output_type": "stream",
     "text": [
      "Area of the set with PR: 1.476\n",
      "Area of the set with PR: 1.4712\n",
      "Area of the set with PR: 1.5084\n"
     ]
    }
   ],
   "source": [
    "s = 10 ** 4 # sample size\n",
    "i = 4 * 10 ** 4 # iterations\n",
    "bounds = -2, 0.5, -1.2, 1.2 # real-min,max,im-min,max\n",
    "\n",
    "# Compute area\n",
    "print(f\"Area of the set with PR: {area(sa.sample_pr, bounds, s, i)}\")\n",
    "print(f\"Area of the set with PR: {area(sa.sample_lh, bounds, s, i)}\")\n",
    "print(f\"Area of the set with PR: {area(sa.sample_ot, bounds, s, i)}\")"
   ]
  },
  {
   "cell_type": "code",
   "execution_count": 5,
   "metadata": {
    "collapsed": false,
    "pycharm": {
     "name": "#%%\n"
    }
   },
   "outputs": [],
   "source": [
    "# converge = np.sum(res[res == i])\n",
    "# print(converge)\n",
    "# all_my = np.sum(res)\n",
    "# ratio = (ct_res[i-1] / (sum(ct_res.values()) - ct_res[i-1]))\n",
    "# ratio"
   ]
  },
  {
   "cell_type": "code",
   "execution_count": null,
   "metadata": {},
   "outputs": [],
   "source": []
  }
 ],
 "metadata": {
  "kernelspec": {
   "display_name": "Python 3.10.6 64-bit",
   "language": "python",
   "name": "python3"
  },
  "language_info": {
   "codemirror_mode": {
    "name": "ipython",
    "version": 3
   },
   "file_extension": ".py",
   "mimetype": "text/x-python",
   "name": "python",
   "nbconvert_exporter": "python",
   "pygments_lexer": "ipython3",
   "version": "3.10.6"
  },
  "orig_nbformat": 4,
  "vscode": {
   "interpreter": {
    "hash": "916dbcbb3f70747c44a77c7bcd40155683ae19c65e1c03b4aa3499c5328201f1"
   }
  }
 },
 "nbformat": 4,
 "nbformat_minor": 2
}
