{
 "cells": [
  {
   "cell_type": "code",
   "execution_count": 2,
   "metadata": {
    "pycharm": {
     "name": "#%%\n"
    }
   },
   "outputs": [],
   "source": [
    "import area_mandelbrot as am\n",
    "import sampling_alg as sa\n",
    "\n",
    "import numpy as np\n",
    "import matplotlib.pyplot as plt\n",
    "from collections import Counter"
   ]
  },
  {
   "cell_type": "code",
   "execution_count": 41,
   "metadata": {
    "collapsed": false,
    "pycharm": {
     "name": "#%%\n"
    }
   },
   "outputs": [
    {
     "name": "stdout",
     "output_type": "stream",
     "text": [
      "Iteration 100 done\n",
      "Iteration 1000 done\n",
      "Iteration 10000 done\n",
      "Iteration 100000 done\n",
      "Iteration 1000000 done\n"
     ]
    }
   ],
   "source": [
    "s = 10 ** 4 # sample size\n",
    "i = [10 ** i for i in range(2,7)] # iterations\n",
    "bounds = -2, 0.47, -1.12, 1.12 # real-min,max,im-min,max\n",
    "\n",
    "# Compute area ## ~10min runtime\n",
    "A_pr, A_lh, A_ot = np.array([]), np.array([]), np.array([])\n",
    "for it in i:\n",
    "    avg_pr, avg_lh, avg_ot = [], [], []\n",
    "    for j in range(10):\n",
    "        avg_pr.append(am.area(sa.sample_pr, bounds, s, it))\n",
    "        avg_lh.append(am.area(sa.sample_lh, bounds, s, it))\n",
    "        avg_ot.append(am.area(sa.sample_ot, bounds, s, it))\n",
    "    A_pr = np.append(A_pr, [np.mean(avg_pr), np.std(avg_pr)])\n",
    "    A_lh = np.append(A_lh, [np.mean(avg_lh), np.std(avg_lh)])\n",
    "    A_ot = np.append(A_ot, [np.mean(avg_ot), np.std(avg_ot)])\n",
    "    print(f\"Iteration {it} done\")"
   ]
  },
  {
   "cell_type": "code",
   "execution_count": 47,
   "metadata": {},
   "outputs": [
    {
     "data": {
      "image/png": "[encoded data removed]",
      "text/plain": [
       "<Figure size 432x288 with 1 Axes>"
      ]
     },
     "metadata": {
      "needs_background": "light"
     },
     "output_type": "display_data"
    }
   ],
   "source": [
    "fig, ax = plt.subplots()\n",
    "# plt.plot(i, A_pr[:,0])\n",
    "plt.errorbar(i, A_pr[::2], A_pr[1::2], fmt='o-', capsize=5, elinewidth=1)\n",
    "# plt.plot(i, A_lh[:,0])\n",
    "plt.errorbar(i, A_lh[::2], A_lh[1::2], fmt='o-', capsize=5, elinewidth=1)\n",
    "# plt.plot(i, A_ot[:,0])\n",
    "plt.errorbar(i, A_ot[::2], A_ot[1::2], fmt='o-', capsize=5, elinewidth=1)\n",
    "plt.legend(['PR', 'LH', 'OT'])\n",
    "ax.set_xscale('log')\n",
    "plt.ylabel('Area')\n",
    "plt.xlabel('no. of iterations')\n",
    "plt.show()"
   ]
  },
  {
   "cell_type": "code",
   "execution_count": 40,
   "metadata": {},
   "outputs": [
    {
     "data": {
      "text/plain": [
       "array([1, 2, 3, 4])"
      ]
     },
     "execution_count": 40,
     "metadata": {},
     "output_type": "execute_result"
    }
   ],
   "source": [
    "# np.array(A_ot)[:,0]\n",
    "# np.append([1,2], [3,4])"
   ]
  },
  {
   "cell_type": "code",
   "execution_count": 45,
   "metadata": {},
   "outputs": [
    {
     "data": {
      "text/plain": [
       "array([0.03585511, 0.02359887, 0.01717879, 0.01752108, 0.0190673 ])"
      ]
     },
     "execution_count": 45,
     "metadata": {},
     "output_type": "execute_result"
    }
   ],
   "source": [
    "A_pr[1::2]"
   ]
  },
  {
   "cell_type": "code",
   "execution_count": 3,
   "metadata": {
    "collapsed": false,
    "pycharm": {
     "name": "#%%\n"
    }
   },
   "outputs": [],
   "source": [
    "# converge = np.sum(res[res == i])\n",
    "# print(converge)\n",
    "# all_my = np.sum(res)\n",
    "# ratio = (ct_res[i-1] / (sum(ct_res.values()) - ct_res[i-1]))\n",
    "# ratio"
   ]
  }
 ],
 "metadata": {
  "kernelspec": {
   "display_name": "Python 3.10.6 64-bit",
   "language": "python",
   "name": "python3"
  },
  "language_info": {
   "codemirror_mode": {
    "name": "ipython",
    "version": 3
   },
   "file_extension": ".py",
   "mimetype": "text/x-python",
   "name": "python",
   "nbconvert_exporter": "python",
   "pygments_lexer": "ipython3",
   "version": "3.10.6"
  },
  "orig_nbformat": 4,
  "vscode": {
   "interpreter": {
    "hash": "916dbcbb3f70747c44a77c7bcd40155683ae19c65e1c03b4aa3499c5328201f1"
   }
  }
 },
 "nbformat": 4,
 "nbformat_minor": 2
}
