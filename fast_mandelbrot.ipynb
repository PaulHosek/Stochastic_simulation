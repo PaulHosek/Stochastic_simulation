{
 "cells": [
  {
   "cell_type": "code",
   "execution_count": 7,
   "outputs": [],
   "source": [
    "import numba as nb\n",
    "import numpy as np\n",
    "import matplotlib.pyplot as plt\n",
    "import matplotlib\n",
    "import os"
   ],
   "metadata": {
    "collapsed": false,
    "pycharm": {
     "name": "#%%\n"
    }
   }
  },
  {
   "cell_type": "code",
   "execution_count": 8,
   "outputs": [],
   "source": [
    "if not os.path.isdir(\"figures\"):\n",
    "            os.makedirs(\"figures\")"
   ],
   "metadata": {
    "collapsed": false,
    "pycharm": {
     "name": "#%%\n"
    }
   }
  },
  {
   "cell_type": "code",
   "execution_count": 9,
   "outputs": [],
   "source": [
    "plt.figure()\n",
    "plt.close('all')\n",
    "plt.rcParams[\"font.size\"] = 22"
   ],
   "metadata": {
    "collapsed": false,
    "pycharm": {
     "name": "#%%\n"
    }
   }
  },
  {
   "cell_type": "code",
   "execution_count": 10,
   "outputs": [],
   "source": [
    "cur_center = -0.8 + 0.0j\n",
    "cur_extent = 3.0 + 3.0j\n",
    "\n",
    "resulution = 256*2^20\n",
    "# XY-quadrant that will be inspected\n",
    "cur_width = resulution  # (x axis); real numbers\n",
    "cur_height = resulution# (y axis); imaginary\n",
    "\n",
    "cur_max_iter = resulution # convergence test search depth"
   ],
   "metadata": {
    "collapsed": false,
    "pycharm": {
     "name": "#%%\n"
    }
   }
  },
  {
   "cell_type": "code",
   "execution_count": 11,
   "outputs": [],
   "source": [
    "@nb.vectorize\n",
    "def mandelbrot(c, max_iter=cur_max_iter):\n",
    "    \"\"\"\n",
    "    Convergence test by iteration for single complex number.\n",
    "    \"\"\"\n",
    "    z = 0\n",
    "\n",
    "    # test for divergence with finite iterations\n",
    "    for k in range(max_iter):\n",
    "        z = z**2 + c\n",
    "        if np.absolute(z) > 4.0:  # if true then complex number diverges and is not part of set\n",
    "            break\n",
    "\n",
    "    return k\n",
    "\n",
    "def generate_complex_grid(width=cur_width, height=cur_height, center=cur_center, extent=cur_extent):\n",
    "    \"\"\"\n",
    "    Generate complex number grid to pass to the iteration function.\n",
    "    \"\"\"\n",
    "    scale = max(extent.real / width, extent.imag / height)\n",
    "    real_index_grid, imag_index_grid = np.meshgrid(np.arange(0, width), np.arange(0, height))\n",
    "    c_grid = center + (real_index_grid - width // 2 + (imag_index_grid - height //2) * 1j) * scale\n",
    "    return c_grid\n",
    "\n",
    "\n",
    "def compute_mandelbrot(width=cur_width, height=cur_height, center=cur_center, extent=cur_extent, max_iter=cur_max_iter):\n",
    "    \"\"\"\n",
    "    Compute mandelbrot set by generating complex grid and testing for divergence for each point.\n",
    "    \"\"\"\n",
    "    niters = np.zeros((width, height), int)\n",
    "    scale = max(extent.real / width, extent.imag / height)\n",
    "\n",
    "    c_grid = generate_complex_grid(width=cur_width, height=cur_height, center=cur_center, extent=cur_extent)\n",
    "\n",
    "    return mandelbrot(c_grid, max_iter)"
   ],
   "metadata": {
    "collapsed": false,
    "pycharm": {
     "name": "#%%\n"
    }
   }
  },
  {
   "cell_type": "code",
   "execution_count": 20,
   "outputs": [
    {
     "name": "stdout",
     "output_type": "stream",
     "text": [
      "<class 'numpy.complex128'>\n"
     ]
    },
    {
     "ename": "KeyboardInterrupt",
     "evalue": "",
     "output_type": "error",
     "traceback": [
      "\u001B[0;31m---------------------------------------------------------------------------\u001B[0m",
      "\u001B[0;31mKeyboardInterrupt\u001B[0m                         Traceback (most recent call last)",
      "Input \u001B[0;32mIn [20]\u001B[0m, in \u001B[0;36m<cell line: 3>\u001B[0;34m()\u001B[0m\n\u001B[1;32m      1\u001B[0m new \u001B[38;5;241m=\u001B[39m generate_complex_grid(width\u001B[38;5;241m=\u001B[39mcur_width, height\u001B[38;5;241m=\u001B[39mcur_height, center\u001B[38;5;241m=\u001B[39mcur_center, extent\u001B[38;5;241m=\u001B[39mcur_extent)\n\u001B[1;32m      2\u001B[0m \u001B[38;5;28mprint\u001B[39m(\u001B[38;5;28mtype\u001B[39m(new[\u001B[38;5;241m1\u001B[39m,\u001B[38;5;241m1\u001B[39m]))\n\u001B[0;32m----> 3\u001B[0m \u001B[38;5;28;01mraise\u001B[39;00m \u001B[38;5;167;01mKeyboardInterrupt\u001B[39;00m\n",
      "\u001B[0;31mKeyboardInterrupt\u001B[0m: "
     ]
    }
   ],
   "source": [
    "new = generate_complex_grid(width=cur_width, height=cur_height, center=cur_center, extent=cur_extent)\n",
    "print(type(new[1,1]))\n",
    "raise KeyboardInterrupt"
   ],
   "metadata": {
    "collapsed": false,
    "pycharm": {
     "name": "#%%\n"
    }
   }
  },
  {
   "cell_type": "code",
   "execution_count": null,
   "outputs": [],
   "source": [
    "niters = compute_mandelbrot() # 17 ms"
   ],
   "metadata": {
    "collapsed": false,
    "pycharm": {
     "name": "#%%\n"
    }
   }
  },
  {
   "cell_type": "code",
   "execution_count": null,
   "outputs": [],
   "source": [
    "fig, ax = plt.subplots(1,1, figsize=(10,10))\n",
    "c0, c1 = cur_center - cur_extent / 2, cur_center + cur_extent / 2\n",
    "plot_extent = (c0.real, c1.real, c0.imag, c1.imag)\n",
    "\n",
    "cmap = matplotlib.colors.LinearSegmentedColormap.from_list(\"\", [\"black\",\"magenta\",\"black\"]) # cyan, lawngreen, white, magenta\n",
    "ax.imshow(niters, origin='lower', extent=plot_extent, cmap=cmap)\n",
    "ax.set_xlabel(\"$\\Re(c)$\")\n",
    "ax.set_ylabel(\"$\\Im(c)$\")\n",
    "# plt.show()\n",
    "plt.savefig('figures/mandelbrot_magenta_final.svg', bbox_inches=\"tight\")"
   ],
   "metadata": {
    "collapsed": false,
    "pycharm": {
     "name": "#%%\n"
    }
   }
  },
  {
   "cell_type": "code",
   "execution_count": null,
   "outputs": [],
   "source": [],
   "metadata": {
    "collapsed": false,
    "pycharm": {
     "name": "#%%\n"
    }
   }
  }
 ],
 "metadata": {
  "kernelspec": {
   "display_name": "Python 3",
   "language": "python",
   "name": "python3"
  },
  "language_info": {
   "codemirror_mode": {
    "name": "ipython",
    "version": 2
   },
   "file_extension": ".py",
   "mimetype": "text/x-python",
   "name": "python",
   "nbconvert_exporter": "python",
   "pygments_lexer": "ipython2",
   "version": "2.7.6"
  }
 },
 "nbformat": 4,
 "nbformat_minor": 0
}