{
 "cells": [
  {
   "cell_type": "code",
   "execution_count": 55,
   "metadata": {},
   "outputs": [],
   "source": [
    "import numpy as np\n",
    "import random\n",
    "from collections import Counter\n",
    "import matplotlib.pyplot as plt"
   ]
  },
  {
   "cell_type": "code",
   "execution_count": 60,
   "metadata": {},
   "outputs": [],
   "source": [
    "def play_monte_hall(strategy):\n",
    "    game = np.random.choice([0,1,2])\n",
    "    choice_1 = np.random.choice([0,1,2])\n",
    "\n",
    "    if game == choice_1:\n",
    "        if strategy == 'change':\n",
    "            return 0\n",
    "        else:\n",
    "            return 1\n",
    "    else:\n",
    "        if strategy == 'change':\n",
    "            return 1\n",
    "        else:\n",
    "            return 0\n",
    "\n",
    "def galton(n, k, weight):\n",
    "    count = 0\n",
    "    for bounce in range(n):\n",
    "        count += random.choices([-1, 1], weights=weight, k=1)[0]\n",
    "    if n % 2 == 0:\n",
    "        return np.ceil(k/2) + count/2\n",
    "    else:\n",
    "        return np.ceil(k/2) + count\n",
    "\n",
    "def roll_dice(n, eyes):\n",
    "    roll = [np.random.choice(range(1,eyes+1)) for _ in range(n)]\n",
    "    return sum(roll)"
   ]
  },
  {
   "cell_type": "code",
   "execution_count": 61,
   "metadata": {},
   "outputs": [
    {
     "data": {
      "text/plain": [
       "(0.664, 0.3312)"
      ]
     },
     "execution_count": 61,
     "metadata": {},
     "output_type": "execute_result"
    }
   ],
   "source": [
    "# Play Monte Hall N times\n",
    "N = 10 ** 4\n",
    "results_change = Counter([play_monte_hall('change') for _ in range(N)])\n",
    "results_stay = Counter([play_monte_hall('stay') for _ in range(N)])\n",
    "success_stay = results_stay[1] / N\n",
    "success_change = results_change[1] / N\n",
    "success_change, success_stay"
   ]
  },
  {
   "cell_type": "code",
   "execution_count": 68,
   "metadata": {},
   "outputs": [
    {
     "data": {
      "image/png": "[encoded data removed]",
      "text/plain": [
       "<Figure size 432x288 with 1 Axes>"
      ]
     },
     "metadata": {
      "needs_background": "light"
     },
     "output_type": "display_data"
    }
   ],
   "source": [
    "# Play Galton\n",
    "n, k, weights = 10, 13, [0.25, 0.75]\n",
    "results = [galton(n,k, weights) for _ in range(N)]\n",
    "plt.hist(results, bins=11)\n",
    "plt.show()"
   ]
  },
  {
   "cell_type": "code",
   "execution_count": 50,
   "metadata": {},
   "outputs": [
    {
     "data": {
      "image/png": "[encoded data removed]",
      "text/plain": [
       "<Figure size 432x288 with 1 Axes>"
      ]
     },
     "metadata": {
      "needs_background": "light"
     },
     "output_type": "display_data"
    }
   ],
   "source": [
    "# Roll N dice\n",
    "num, eyes = 2, 6\n",
    "rolls = [roll_dice(num, eyes) for _ in range(10 ** 5)]\n",
    "plt.hist(rolls, bins=num*eyes - (num-1))\n",
    "plt.show()"
   ]
  }
 ],
 "metadata": {
  "kernelspec": {
   "display_name": "Python 3.10.6 64-bit",
   "language": "python",
   "name": "python3"
  },
  "language_info": {
   "codemirror_mode": {
    "name": "ipython",
    "version": 3
   },
   "file_extension": ".py",
   "mimetype": "text/x-python",
   "name": "python",
   "nbconvert_exporter": "python",
   "pygments_lexer": "ipython3",
   "version": "3.10.6"
  },
  "orig_nbformat": 4,
  "vscode": {
   "interpreter": {
    "hash": "916dbcbb3f70747c44a77c7bcd40155683ae19c65e1c03b4aa3499c5328201f1"
   }
  }
 },
 "nbformat": 4,
 "nbformat_minor": 2
}
