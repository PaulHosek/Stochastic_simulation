{
 "cells": [
  {
   "cell_type": "code",
   "execution_count": null,
   "outputs": [],
   "source": [
    "## imports\n",
    "import numba as nb\n",
    "import numpy as np\n",
    "import matplotlib.pyplot as plt\n",
    "%matplotlib widget\n",
    "np.warnings.filterwarnings(\"ignore\")"
   ],
   "metadata": {
    "collapsed": false,
    "pycharm": {
     "name": "#%%\n"
    }
   }
  },
  {
   "cell_type": "code",
   "execution_count": null,
   "outputs": [],
   "source": [
    "@nb.vectorize\n",
    "def mandel(n, c):\n",
    "    ''' Checks if c is in the Mandelbrot set\n",
    "        arg n: int : number of iterations\n",
    "        arg c: int?: real or imaginary number \n",
    "\n",
    "        returns: Bool : True if c is in Mandelbrot set\n",
    "                        False if c is not in Mandebrot set\n",
    "    '''\n",
    "    z = 0\n",
    "    for _ in range(n):\n",
    "        z = z ** 2 + c\n",
    "    return np.abs(z) <= 2"
   ],
   "metadata": {
    "collapsed": false,
    "pycharm": {
     "name": "#%%\n"
    }
   }
  },
  {
   "cell_type": "code",
   "execution_count": 8,
   "outputs": [],
   "source": [
    "## Simple picture of Mandelbrot set\n",
    "# Variables\n",
    "dpi = 2048\n",
    "xmin, xmax = -2, 1\n",
    "ymin, ymax = -1.5, 1.5\n",
    "iterations = 10 ** 4\n",
    "\n",
    "# Create Grid\n",
    "ax_re = np.linspace(xmin, xmax, dpi)\n",
    "ax_im = np.linspace(ymin, ymax, dpi)\n",
    "grid = ax_re[np.newaxis, :] + ax_im[:, np.newaxis] * 1j"
   ],
   "metadata": {
    "collapsed": false,
    "pycharm": {
     "name": "#%%\n"
    }
   }
  },
  {
   "cell_type": "code",
   "execution_count": 9,
   "outputs": [],
   "source": [
    "# Show image\n",
    "# plt.imshow(mandel(iterations, grid), cmap=\"binary\")\n",
    "# plt.axis('off')\n",
    "# plt.show()"
   ],
   "metadata": {
    "collapsed": false,
    "pycharm": {
     "name": "#%%\n"
    }
   }
  },
  {
   "cell_type": "code",
   "execution_count": null,
   "metadata": {
    "pycharm": {
     "name": "#%%\n",
     "is_executing": true
    }
   },
   "outputs": [],
   "source": [
    "# Show image\n",
    "plt.imshow(mandel(iterations, grid), cmap=\"binary\")\n",
    "plt.axis('off')\n",
    "plt.show()"
   ]
  },
  {
   "cell_type": "code",
   "execution_count": 9,
   "outputs": [],
   "source": [],
   "metadata": {
    "collapsed": false,
    "pycharm": {
     "name": "#%%\n"
    }
   }
  },
  {
   "cell_type": "code",
   "execution_count": null,
   "metadata": {
    "pycharm": {
     "name": "#%%\n"
    }
   },
   "outputs": [],
   "source": []
  }
 ],
 "metadata": {
  "kernelspec": {
   "display_name": "Python 3.10.6 64-bit",
   "language": "python",
   "name": "python3"
  },
  "language_info": {
   "codemirror_mode": {
    "name": "ipython",
    "version": 3
   },
   "file_extension": ".py",
   "mimetype": "text/x-python",
   "name": "python",
   "nbconvert_exporter": "python",
   "pygments_lexer": "ipython3",
   "version": "3.10.6"
  },
  "orig_nbformat": 4,
  "vscode": {
   "interpreter": {
    "hash": "916dbcbb3f70747c44a77c7bcd40155683ae19c65e1c03b4aa3499c5328201f1"
   }
  }
 },
 "nbformat": 4,
 "nbformat_minor": 2
}