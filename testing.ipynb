{
 "cells": [
  {
   "cell_type": "code",
   "execution_count": 20,
   "metadata": {
    "collapsed": true,
    "pycharm": {
     "name": "#%%\n"
    }
   },
   "outputs": [],
   "source": [
    "import math\n",
    "\n",
    "import numpy as np\n",
    "import matplotlib.pyplot as plt\n",
    "\n",
    "import sampling_alg\n",
    "import area_mandelbrot as am\n",
    "import sampling_alg\n",
    "from collections import Counter"
   ]
  },
  {
   "cell_type": "code",
   "execution_count": 21,
   "outputs": [],
   "source": [
    "# plt.figure()\n",
    "# plt.close('all')\n",
    "# plt.rcParams[\"font.size\"] = 22"
   ],
   "metadata": {
    "collapsed": false,
    "pycharm": {
     "name": "#%%\n"
    }
   }
  },
  {
   "cell_type": "code",
   "execution_count": 22,
   "outputs": [],
   "source": [
    "# re_min, re_max = -2, 0.47,\n",
    "# im_min, im_max = -1.12, 1.12\n",
    "# s = 10 ** 6 # sample size\n",
    "# i = 10**4   # iterations\n",
    "# N = 10\n",
    "# rng = np.random.default_rng(0)"
   ],
   "metadata": {
    "collapsed": false,
    "pycharm": {
     "name": "#%%\n"
    }
   }
  },
  {
   "cell_type": "code",
   "execution_count": 23,
   "outputs": [],
   "source": [
    "# samples = sampling_alg.sample_pr(re_min,re_max,im_min,im_max,rng,s,rng)\n",
    "#\n",
    "# # Check if the samples are part of the MB-set\n",
    "# res =am.mandelbrot(samples, i)"
   ],
   "metadata": {
    "collapsed": false,
    "pycharm": {
     "name": "#%%\n"
    }
   }
  },
  {
   "cell_type": "code",
   "execution_count": 24,
   "outputs": [],
   "source": [
    "# all_divergent = res[res<max(res)]\n",
    "#\n",
    "# all_divergent.sort()\n",
    "# ct_ad = Counter(all_divergent)\n",
    "#\n",
    "# # accuracy of cutting off after 4000\n",
    "# percentile = (len(all_divergent[all_divergent<4000])/len(all_divergent))\n",
    "# # point at which 99.99% diverge\n",
    "# nr_iterations = (all_divergent[int(len(all_divergent)*percentile)])\n",
    "# print(percentile, nr_iterations)"
   ],
   "metadata": {
    "collapsed": false,
    "pycharm": {
     "name": "#%%\n"
    }
   }
  },
  {
   "cell_type": "code",
   "execution_count": 25,
   "outputs": [],
   "source": [
    "# # data = all_divergent\n",
    "# count, bins = np.histogram(data,bins=1000)\n",
    "# pdf = count/ sum(count)\n",
    "# cdf = np.cumsum(count)/len(all_divergent)\n",
    "#\n",
    "# plt.figure(figsize=(12,8))\n",
    "# plt.plot(bins[:-1], cdf, label=\"CDF\")\n",
    "# plt.axvline(nr_iterations,color='black',linestyle=':')\n",
    "# plt.axhline(percentile,color='black',linestyle=':')\n",
    "# plt.ylabel(fr\"$P(X ≤ x)$\")\n",
    "# plt.xlabel(\"Point of divergence\")\n",
    "# plt.show()"
   ],
   "metadata": {
    "collapsed": false,
    "pycharm": {
     "name": "#%%\n"
    }
   }
  },
  {
   "cell_type": "code",
   "execution_count": 26,
   "outputs": [],
   "source": [
    "# fig, (ax1,ax2) = plt.subplots(1,2,figsize=(16,7))\n",
    "# # ax1.hist(Counter(all_divergent), cumulative=True, density=True, color='blue',bins=1000)\n",
    "# ax1.axhline(.95,color='black',linestyle=':')\n",
    "# ax1.axvline(21)\n",
    "# ax1.set_xlim(0,20000)\n",
    "# ax2.bar(data.keys(),data.values())# cumulative=False, density=False, color='blue',bins=10)\n",
    "# # ax2.set_xlim(0,20000)\n",
    "# plt.show()"
   ],
   "metadata": {
    "collapsed": false,
    "pycharm": {
     "name": "#%%\n"
    }
   }
  },
  {
   "cell_type": "code",
   "execution_count": 27,
   "outputs": [],
   "source": [
    "# import math\n",
    "# pure_random_sample = sampling_alg.sample_pr(re_min, re_max, im_min, im_max,rng,16,rng)\n",
    "# real_pr = pure_random_sample.real\n",
    "# im_pr = pure_random_sample.imag\n",
    "#\n",
    "# lh_sample = sampling_alg.sample_lh(re_min, re_max, im_min, im_max,rng, 16,rng)\n",
    "# real_lh = lh_sample.real\n",
    "# im_lh = lh_sample.imag\n",
    "# n_samples = 16\n",
    "# real_grid = np.linspace(re_min, re_max, n_samples + 1)\n",
    "# im_grid = np.linspace(im_min, im_max, n_samples + 1)\n",
    "# rng2 = np.random.default_rng(1)\n",
    "# ot = sampling_alg.sample_ot(re_min,re_max,im_min,im_max,rng, n_samples=16,rng_2=rng2,antithetic=False)\n",
    "#\n",
    "#\n",
    "# plt.figure(figsize=(8,8))\n",
    "#\n",
    "# for i in range(n_samples+1):\n",
    "#     plt.axvline(np.linspace(re_min, re_max, n_samples+1)[i],color='black',linestype)\n",
    "#     plt.axhline(np.linspace(im_min, im_max, n_samples+1)[i],color='black',linestype)\n",
    "#\n",
    "# for i in range(math.isqrt(n_samples)+1):\n",
    "#     plt.axhline(np.linspace(im_min, im_max, math.isqrt(n_samples)+1)[i],color='royalblue')\n",
    "#     plt.axvline(np.linspace(re_min, re_max, math.isqrt(n_samples)+1)[i],color='royalblue')\n",
    "# print(math.isqrt(n_samples))\n",
    "# plt.scatter(ot.real,ot.imag,color = 'red')\n",
    "# # plt.scatter(real_pr,im_pr)\n",
    "# # plt.scatter(real_lh,im_lh)\n",
    "# plt.ylabel(\"Imaginary\")\n",
    "# plt.xlabel(\"Real\")\n",
    "# plt.show()\n"
   ],
   "metadata": {
    "collapsed": false,
    "pycharm": {
     "name": "#%%\n"
    }
   }
  },
  {
   "cell_type": "code",
   "execution_count": 28,
   "outputs": [],
   "source": [
    "# n_samples = 10\n",
    "# real_grid = np.linspace(re_min, re_max, n_samples + 1)\n",
    "# im_grid = np.linspace(im_min, im_max, n_samples + 1)\n",
    "# real_grid"
   ],
   "metadata": {
    "collapsed": false,
    "pycharm": {
     "name": "#%%\n"
    }
   }
  },
  {
   "cell_type": "code",
   "execution_count": 28,
   "outputs": [],
   "source": [],
   "metadata": {
    "collapsed": false,
    "pycharm": {
     "name": "#%%\n"
    }
   }
  },
  {
   "cell_type": "code",
   "execution_count": 29,
   "outputs": [],
   "source": [
    "# n_subspaces = 4\n",
    "#\n",
    "# coordinates_1d = np.arange(n_subspaces**2)\n",
    "# # randomly arrange subspaces\n",
    "# print(coordinates_1d)\n",
    "# rng.shuffle(coordinates_1d.reshape([n_subspaces, n_subspaces]))\n",
    "# # DO SOMETHING\n",
    "# print(coordinates_1d)\n",
    "#\n",
    "# rng.shuffle(coordinates_1d.reshape([n_subspaces, n_subspaces]))"
   ],
   "metadata": {
    "collapsed": false,
    "pycharm": {
     "name": "#%%\n"
    }
   }
  },
  {
   "cell_type": "code",
   "execution_count": 30,
   "outputs": [],
   "source": [
    "# coordinates_2d = coordinates_1d.reshape([n_subspaces, n_subspaces])\n",
    "# coordinates_2d.T.reshape(-1)"
   ],
   "metadata": {
    "collapsed": false,
    "pycharm": {
     "name": "#%%\n"
    }
   }
  },
  {
   "cell_type": "code",
   "execution_count": 30,
   "outputs": [],
   "source": [],
   "metadata": {
    "collapsed": false,
    "pycharm": {
     "name": "#%%\n"
    }
   }
  },
  {
   "cell_type": "code",
   "execution_count": 30,
   "outputs": [],
   "source": [],
   "metadata": {
    "collapsed": false,
    "pycharm": {
     "name": "#%%\n"
    }
   }
  },
  {
   "cell_type": "code",
   "execution_count": 31,
   "outputs": [],
   "source": [
    "# rng1 = np.random.default_rng(0)\n",
    "# rng2 = np.random.default_rng(1)\n",
    "# new = sampling_alg.sample_ot(re_min,re_max,im_min,im_max,rng, n_samples=100,rng_2=rng2)\n",
    "# plt.scatter(new.real,new.imag,color = 'red')\n",
    "# # plt.scatter(nat.real, nat.imag,color='green')\n",
    "# # plt.scatter(real_pr,im_pr,color='blue')\n",
    "# # plt.scatter(real_lh,im_lh,color='green')\n",
    "# plt.ylabel(\"Imaginary\")\n",
    "# plt.xlabel(\"Real\")\n",
    "# plt.show()\n"
   ],
   "metadata": {
    "collapsed": false,
    "pycharm": {
     "name": "#%%\n"
    }
   }
  },
  {
   "cell_type": "code",
   "execution_count": 32,
   "outputs": [],
   "source": [
    "# mine = new.real\n",
    "# np.split(new.real,2)"
   ],
   "metadata": {
    "collapsed": false,
    "pycharm": {
     "name": "#%%\n"
    }
   }
  },
  {
   "cell_type": "markdown",
   "source": [
    "# Comparison Plot/Table (Bar?)"
   ],
   "metadata": {
    "collapsed": false,
    "pycharm": {
     "name": "#%% md\n"
    }
   }
  },
  {
   "cell_type": "code",
   "execution_count": 33,
   "outputs": [],
   "source": [
    "# fix iterations\n",
    "# fix sample size\n",
    "# plot variance\n",
    "# could be table\n",
    "from area import mc_area\n",
    "import sampling_alg as sa\n",
    "import area as a\n",
    "import numpy as np"
   ],
   "metadata": {
    "collapsed": false,
    "pycharm": {
     "name": "#%%\n"
    }
   }
  },
  {
   "cell_type": "code",
   "execution_count": 36,
   "outputs": [
    {
     "ename": "AttributeError",
     "evalue": "module 'area' has no attribute 'area'",
     "output_type": "error",
     "traceback": [
      "\u001B[0;31m---------------------------------------------------------------------------\u001B[0m",
      "\u001B[0;31mAttributeError\u001B[0m                            Traceback (most recent call last)",
      "Input \u001B[0;32mIn [36]\u001B[0m, in \u001B[0;36m<cell line: 19>\u001B[0;34m()\u001B[0m\n\u001B[1;32m     18\u001B[0m funcs \u001B[38;5;241m=\u001B[39m [sa\u001B[38;5;241m.\u001B[39msample_pr,sa\u001B[38;5;241m.\u001B[39msample_lh,sa\u001B[38;5;241m.\u001B[39msample_ot]\n\u001B[1;32m     19\u001B[0m \u001B[38;5;28;01mfor\u001B[39;00m i \u001B[38;5;129;01min\u001B[39;00m \u001B[38;5;28mrange\u001B[39m(n_simulations):\n\u001B[1;32m     20\u001B[0m     \u001B[38;5;66;03m# run simulation normal\u001B[39;00m\n\u001B[0;32m---> 21\u001B[0m     area_1 \u001B[38;5;241m=\u001B[39m \u001B[43ma\u001B[49m\u001B[38;5;241;43m.\u001B[39;49m\u001B[43marea\u001B[49m(sa\u001B[38;5;241m.\u001B[39msample_pr, bounds, \u001B[38;5;241m100\u001B[39m, i,antithetic\u001B[38;5;241m=\u001B[39m\u001B[38;5;28;01mFalse\u001B[39;00m)\n\u001B[1;32m     22\u001B[0m     \u001B[38;5;66;03m# run simulation inverted\u001B[39;00m\n\u001B[1;32m     23\u001B[0m     area_2 \u001B[38;5;241m=\u001B[39m a\u001B[38;5;241m.\u001B[39marea(sa\u001B[38;5;241m.\u001B[39msample_pr, bounds, \u001B[38;5;241m100\u001B[39m, i,antithetic\u001B[38;5;241m=\u001B[39m\u001B[38;5;28;01mTrue\u001B[39;00m)\n",
      "\u001B[0;31mAttributeError\u001B[0m: module 'area' has no attribute 'area'"
     ]
    }
   ],
   "source": [
    "re_min, re_max = -2, 0.47,\n",
    "im_min, im_max = -1.12, 1.12\n",
    "# N = 10\n",
    "rng = np.random.default_rng(0)\n",
    "rng2 = np.random.default_rng(1)\n",
    "\n",
    "samples = np.array([10_000])\n",
    "iterations = np.array([1000])\n",
    "\n",
    "\n",
    "bounds = -2, 0.47, -1.12, 1.12\n",
    "  # iterations\n",
    "\n",
    "pr_points = sa.sample_pr(re_min,re_max,im_min,im_max,rng, n_samples=100,rng2=rng2)\n",
    "\n",
    "# all antithetic ones\n",
    "n_simulations = 1000\n",
    "funcs = [sa.sample_pr,sa.sample_lh,sa.sample_ot]\n",
    "for i in range(n_simulations):\n",
    "    # run simulation normal\n",
    "    area_1 = a.area(sa.sample_pr, bounds, 100, i,antithetic=False)\n",
    "    # run simulation inverted\n",
    "    area_2 = a.area(sa.sample_pr, bounds, 100, i,antithetic=True)\n",
    "    # take average area\n",
    "    area_true = (area_1 + area_2)/2\n",
    "\n",
    "\n",
    "print(area_1)\n",
    "print(area_2)\n",
    "print(area_true)\n",
    "\n",
    "# sample_pr(re_min, re_max, im_min, im_max, rng, n_samples, rng2, antithetic=False):\n"
   ],
   "metadata": {
    "collapsed": false,
    "pycharm": {
     "name": "#%%\n"
    }
   }
  },
  {
   "cell_type": "code",
   "execution_count": null,
   "outputs": [],
   "source": [
    "# for all sampling methods\n",
    "# run same #iterations same #samples n times\n",
    "# calculate variance"
   ],
   "metadata": {
    "collapsed": false,
    "pycharm": {
     "name": "#%%\n"
    }
   }
  },
  {
   "cell_type": "code",
   "execution_count": null,
   "outputs": [],
   "source": [],
   "metadata": {
    "collapsed": false,
    "pycharm": {
     "name": "#%%\n"
    }
   }
  },
  {
   "cell_type": "code",
   "execution_count": null,
   "outputs": [],
   "source": [
    "# import area\n",
    "# A_pr, A_lh, A_ot = area.pickleopen('pickle/')"
   ],
   "metadata": {
    "collapsed": false,
    "pycharm": {
     "name": "#%%\n"
    }
   }
  },
  {
   "cell_type": "code",
   "execution_count": null,
   "outputs": [],
   "source": [
    "A_lh.shape # simulation, iteration, samples ?"
   ],
   "metadata": {
    "collapsed": false,
    "pycharm": {
     "name": "#%%\n"
    }
   }
  },
  {
   "cell_type": "code",
   "execution_count": null,
   "outputs": [],
   "source": [],
   "metadata": {
    "collapsed": false,
    "pycharm": {
     "name": "#%%\n"
    }
   }
  }
 ],
 "metadata": {
  "kernelspec": {
   "display_name": "Python 3",
   "language": "python",
   "name": "python3"
  },
  "language_info": {
   "codemirror_mode": {
    "name": "ipython",
    "version": 2
   },
   "file_extension": ".py",
   "mimetype": "text/x-python",
   "name": "python",
   "nbconvert_exporter": "python",
   "pygments_lexer": "ipython2",
   "version": "2.7.6"
  }
 },
 "nbformat": 4,
 "nbformat_minor": 0
}