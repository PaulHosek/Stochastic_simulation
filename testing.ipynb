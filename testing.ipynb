{
 "cells": [
  {
   "cell_type": "code",
   "execution_count": 8,
   "metadata": {
    "collapsed": true,
    "pycharm": {
     "name": "#%%\n"
    }
   },
   "outputs": [],
   "source": [
    "import numpy as np\n",
    "import matplotlib.pyplot as plt\n",
    "\n",
    "import sampling_alg\n",
    "import sampling_alg as sa"
   ]
  },
  {
   "cell_type": "code",
   "execution_count": 9,
   "outputs": [],
   "source": [
    "re_min, re_max = -2, 0.47,\n",
    "im_min, im_max = -1.12, 1.12\n",
    "s = 10 ** 5 # sample size\n",
    "i = 10**4   # iterations\n",
    "N = 10"
   ],
   "metadata": {
    "collapsed": false,
    "pycharm": {
     "name": "#%%\n"
    }
   }
  },
  {
   "cell_type": "code",
   "execution_count": 10,
   "outputs": [],
   "source": [
    "rng = np.random.default_rng(0)"
   ],
   "metadata": {
    "collapsed": false,
    "pycharm": {
     "name": "#%%\n"
    }
   }
  },
  {
   "cell_type": "code",
   "execution_count": 11,
   "outputs": [
    {
     "name": "stdout",
     "output_type": "stream",
     "text": [
      "-2 0.47\n"
     ]
    },
    {
     "data": {
      "text/plain": "<Figure size 432x288 with 1 Axes>",
      "image/png": "[encoded data removed]"
     },
     "metadata": {
      "needs_background": "light"
     },
     "output_type": "display_data"
    }
   ],
   "source": [
    "pure_random_sample = sampling_alg.sample_pr(re_min, re_max, im_min, im_max,rng,16)\n",
    "real_pr = pure_random_sample.real\n",
    "im_pr = pure_random_sample.imag\n",
    "\n",
    "lh_sample = sampling_alg.sample_lh(re_min, re_max, im_min, im_max,rng, 16)\n",
    "real_lh = lh_sample.real\n",
    "im_lh = lh_sample.imag\n",
    "\n",
    "plt.scatter(real_pr,im_pr)\n",
    "plt.scatter(real_lh,im_lh)\n",
    "plt.ylabel(\"Imaginary\")\n",
    "plt.xlabel(\"Real\")\n",
    "plt.show()"
   ],
   "metadata": {
    "collapsed": false,
    "pycharm": {
     "name": "#%%\n"
    }
   }
  },
  {
   "cell_type": "code",
   "execution_count": 12,
   "outputs": [
    {
     "data": {
      "text/plain": "array([-2.   , -1.753, -1.506, -1.259, -1.012, -0.765, -0.518, -0.271,\n       -0.024,  0.223,  0.47 ])"
     },
     "execution_count": 12,
     "metadata": {},
     "output_type": "execute_result"
    }
   ],
   "source": [
    "n_samples = 10\n",
    "real_grid = np.linspace(re_min, re_max, n_samples + 1)\n",
    "im_grid = np.linspace(im_min, im_max, n_samples + 1)\n",
    "real_grid"
   ],
   "metadata": {
    "collapsed": false,
    "pycharm": {
     "name": "#%%\n"
    }
   }
  },
  {
   "cell_type": "code",
   "execution_count": 13,
   "outputs": [
    {
     "ename": "NameError",
     "evalue": "name 'subgrids' is not defined",
     "output_type": "error",
     "traceback": [
      "\u001B[0;31m---------------------------------------------------------------------------\u001B[0m",
      "\u001B[0;31mNameError\u001B[0m                                 Traceback (most recent call last)",
      "Input \u001B[0;32mIn [13]\u001B[0m, in \u001B[0;36m<cell line: 1>\u001B[0;34m()\u001B[0m\n\u001B[0;32m----> 1\u001B[0m xlist \u001B[38;5;241m=\u001B[39m [[\u001B[38;5;241m0\u001B[39m \u001B[38;5;28;01mfor\u001B[39;00m i \u001B[38;5;129;01min\u001B[39;00m \u001B[38;5;28mrange\u001B[39m(subgrids)] \u001B[38;5;28;01mfor\u001B[39;00m j \u001B[38;5;129;01min\u001B[39;00m \u001B[38;5;28mrange\u001B[39m(\u001B[43msubgrids\u001B[49m)]\n\u001B[1;32m      2\u001B[0m ylist \u001B[38;5;241m=\u001B[39m [[\u001B[38;5;241m0\u001B[39m \u001B[38;5;28;01mfor\u001B[39;00m i \u001B[38;5;129;01min\u001B[39;00m \u001B[38;5;28mrange\u001B[39m(subgrids)] \u001B[38;5;28;01mfor\u001B[39;00m j \u001B[38;5;129;01min\u001B[39;00m \u001B[38;5;28mrange\u001B[39m(subgrids)]\n\u001B[1;32m      4\u001B[0m m \u001B[38;5;241m=\u001B[39m \u001B[38;5;241m0\u001B[39m\n",
      "\u001B[0;31mNameError\u001B[0m: name 'subgrids' is not defined"
     ]
    }
   ],
   "source": [
    "xlist = [[0 for i in range(subgrids)] for j in range(subgrids)]\n",
    "ylist = [[0 for i in range(subgrids)] for j in range(subgrids)]\n",
    "\n",
    "m = 0\n",
    "\n",
    "# fill arrays\n",
    "for i in range(subgrids):\n",
    "    for j in range(subgrids):\n",
    "        xlist[i][j] = m\n",
    "        ylist[i][j] = m\n",
    "\n",
    "        m += 1\n",
    "print(xlist)\n",
    "print(np.array(ylist))"
   ],
   "metadata": {
    "collapsed": false,
    "pycharm": {
     "name": "#%%\n"
    }
   }
  },
  {
   "cell_type": "code",
   "execution_count": null,
   "outputs": [],
   "source": [
    "my_mesh = np.meshgrid(np.arange(0,subgrids),np.arange(0,subgrids),)"
   ],
   "metadata": {
    "collapsed": false,
    "pycharm": {
     "name": "#%%\n"
    }
   }
  },
  {
   "cell_type": "code",
   "execution_count": null,
   "outputs": [],
   "source": [
    "new = np.arange(subgrids**2)\n",
    "print(new)"
   ],
   "metadata": {
    "collapsed": false,
    "pycharm": {
     "name": "#%%\n"
    }
   }
  },
  {
   "cell_type": "code",
   "execution_count": null,
   "outputs": [],
   "source": [
    "print(np.arange(subgrids**2).reshape([subgrids,subgrids]))"
   ],
   "metadata": {
    "collapsed": false,
    "pycharm": {
     "name": "#%%\n"
    }
   }
  },
  {
   "cell_type": "code",
   "execution_count": null,
   "outputs": [],
   "source": [],
   "metadata": {
    "collapsed": false,
    "pycharm": {
     "name": "#%%\n"
    }
   }
  },
  {
   "cell_type": "code",
   "execution_count": null,
   "outputs": [],
   "source": [
    "n_subspaces = 4\n",
    "\n",
    "coordinates_1d = np.arange(n_subspaces**2)\n",
    "# randomly arrange subspaces\n",
    "print(coordinates_1d)\n",
    "rng.shuffle(coordinates_1d.reshape([n_subspaces, n_subspaces]))\n",
    "# DO SOMETHING\n",
    "print(coordinates_1d)\n",
    "\n",
    "rng.shuffle(coordinates_1d.reshape([n_subspaces, n_subspaces]))"
   ],
   "metadata": {
    "collapsed": false,
    "pycharm": {
     "name": "#%%\n"
    }
   }
  },
  {
   "cell_type": "code",
   "execution_count": null,
   "outputs": [],
   "source": [
    "coordinates_2d = coordinates_1d.reshape([n_subspaces, n_subspaces])\n",
    "coordinates_2d.T.reshape(-1)"
   ],
   "metadata": {
    "collapsed": false,
    "pycharm": {
     "name": "#%%\n"
    }
   }
  },
  {
   "cell_type": "code",
   "execution_count": null,
   "outputs": [],
   "source": [],
   "metadata": {
    "collapsed": false,
    "pycharm": {
     "name": "#%%\n"
    }
   }
  },
  {
   "cell_type": "code",
   "execution_count": null,
   "outputs": [],
   "source": [],
   "metadata": {
    "collapsed": false,
    "pycharm": {
     "name": "#%%\n"
    }
   }
  },
  {
   "cell_type": "code",
   "execution_count": null,
   "outputs": [],
   "source": [
    "rng1 = np.random.default_rng(0)\n",
    "rng2 = np.random.default_rng(1)\n",
    "new = sampling_alg.sample_ot(re_min,re_max,im_min,im_max,rng, n_samples=100,rng_2=rng2)\n",
    "plt.scatter(new.real,new.imag,color = 'red')\n",
    "# plt.scatter(nat.real, nat.imag,color='green')\n",
    "# plt.scatter(real_pr,im_pr,color='blue')\n",
    "# plt.scatter(real_lh,im_lh,color='green')\n",
    "plt.ylabel(\"Imaginary\")\n",
    "plt.xlabel(\"Real\")\n",
    "plt.show()\n"
   ],
   "metadata": {
    "collapsed": false,
    "pycharm": {
     "name": "#%%\n"
    }
   }
  },
  {
   "cell_type": "code",
   "execution_count": null,
   "outputs": [],
   "source": [],
   "metadata": {
    "collapsed": false,
    "pycharm": {
     "name": "#%%\n"
    }
   }
  }
 ],
 "metadata": {
  "kernelspec": {
   "display_name": "Python 3",
   "language": "python",
   "name": "python3"
  },
  "language_info": {
   "codemirror_mode": {
    "name": "ipython",
    "version": 2
   },
   "file_extension": ".py",
   "mimetype": "text/x-python",
   "name": "python",
   "nbconvert_exporter": "python",
   "pygments_lexer": "ipython2",
   "version": "2.7.6"
  }
 },
 "nbformat": 4,
 "nbformat_minor": 0
}