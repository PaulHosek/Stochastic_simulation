{
 "cells": [
  {
   "cell_type": "code",
   "execution_count": 1,
   "metadata": {
    "collapsed": true,
    "pycharm": {
     "name": "#%%\n"
    }
   },
   "outputs": [],
   "source": [
    "import numpy as np\n",
    "import matplotlib.pyplot as plt\n",
    "\n",
    "import sampling_alg\n",
    "import sampling_alg as sa"
   ]
  },
  {
   "cell_type": "code",
   "execution_count": 2,
   "outputs": [],
   "source": [
    "re_min, re_max = -2, 0.47,\n",
    "im_min, im_max = -1.12, 1.12\n",
    "s = 10 ** 5 # sample size\n",
    "i = 10**4   # iterations\n",
    "N = 10"
   ],
   "metadata": {
    "collapsed": false,
    "pycharm": {
     "name": "#%%\n"
    }
   }
  },
  {
   "cell_type": "code",
   "execution_count": 3,
   "outputs": [],
   "source": [
    "rng = np.random.default_rng(0)"
   ],
   "metadata": {
    "collapsed": false,
    "pycharm": {
     "name": "#%%\n"
    }
   }
  },
  {
   "cell_type": "code",
   "execution_count": 4,
   "outputs": [
    {
     "name": "stdout",
     "output_type": "stream",
     "text": [
      "-2 0.47\n"
     ]
    },
    {
     "data": {
      "text/plain": "<Figure size 432x288 with 1 Axes>",
      "image/png": "[encoded data removed]"
     },
     "metadata": {
      "needs_background": "light"
     },
     "output_type": "display_data"
    }
   ],
   "source": [
    "pure_random_sample = sampling_alg.sample_pr(re_min, re_max, im_min, im_max,rng,16)\n",
    "real_pr = pure_random_sample.real\n",
    "im_pr = pure_random_sample.imag\n",
    "\n",
    "lh_sample = sampling_alg.sample_lh(re_min, re_max, im_min, im_max,rng, 16)\n",
    "real_lh = lh_sample.real\n",
    "im_lh = lh_sample.imag\n",
    "\n",
    "plt.scatter(real_pr,im_pr)\n",
    "plt.scatter(real_lh,im_lh)\n",
    "plt.ylabel(\"Imaginary\")\n",
    "plt.xlabel(\"Real\")\n",
    "plt.show()"
   ],
   "metadata": {
    "collapsed": false,
    "pycharm": {
     "name": "#%%\n"
    }
   }
  },
  {
   "cell_type": "code",
   "execution_count": 5,
   "outputs": [
    {
     "data": {
      "text/plain": "array([-2.   , -1.753, -1.506, -1.259, -1.012, -0.765, -0.518, -0.271,\n       -0.024,  0.223,  0.47 ])"
     },
     "execution_count": 5,
     "metadata": {},
     "output_type": "execute_result"
    }
   ],
   "source": [
    "n_samples = 10\n",
    "real_grid = np.linspace(re_min, re_max, n_samples + 1)\n",
    "im_grid = np.linspace(im_min, im_max, n_samples + 1)\n",
    "real_grid"
   ],
   "metadata": {
    "collapsed": false,
    "pycharm": {
     "name": "#%%\n"
    }
   }
  },
  {
   "cell_type": "code",
   "execution_count": 6,
   "outputs": [
    {
     "name": "stdout",
     "output_type": "stream",
     "text": [
      "[[0, 1, 2, 3], [4, 5, 6, 7], [8, 9, 10, 11], [12, 13, 14, 15]]\n",
      "[[ 0  1  2  3]\n",
      " [ 4  5  6  7]\n",
      " [ 8  9 10 11]\n",
      " [12 13 14 15]]\n"
     ]
    }
   ],
   "source": [
    "xlist = [[0 for i in range(subgrids)] for j in range(subgrids)]\n",
    "ylist = [[0 for i in range(subgrids)] for j in range(subgrids)]\n",
    "\n",
    "m = 0\n",
    "\n",
    "# fill arrays\n",
    "for i in range(subgrids):\n",
    "    for j in range(subgrids):\n",
    "        xlist[i][j] = m\n",
    "        ylist[i][j] = m\n",
    "\n",
    "        m += 1\n",
    "print(xlist)\n",
    "print(np.array(ylist))"
   ],
   "metadata": {
    "collapsed": false,
    "pycharm": {
     "name": "#%%\n"
    }
   }
  },
  {
   "cell_type": "code",
   "execution_count": 7,
   "outputs": [],
   "source": [
    "my_mesh = np.meshgrid(np.arange(0,subgrids),np.arange(0,subgrids),)"
   ],
   "metadata": {
    "collapsed": false,
    "pycharm": {
     "name": "#%%\n"
    }
   }
  },
  {
   "cell_type": "code",
   "execution_count": 8,
   "outputs": [
    {
     "name": "stdout",
     "output_type": "stream",
     "text": [
      "[ 0  1  2  3  4  5  6  7  8  9 10 11 12 13 14 15]\n"
     ]
    }
   ],
   "source": [
    "new = np.arange(subgrids**2)\n",
    "print(new)"
   ],
   "metadata": {
    "collapsed": false,
    "pycharm": {
     "name": "#%%\n"
    }
   }
  },
  {
   "cell_type": "code",
   "execution_count": 9,
   "outputs": [
    {
     "name": "stdout",
     "output_type": "stream",
     "text": [
      "[[ 0  1  2  3]\n",
      " [ 4  5  6  7]\n",
      " [ 8  9 10 11]\n",
      " [12 13 14 15]]\n"
     ]
    }
   ],
   "source": [
    "print(np.arange(subgrids**2).reshape([subgrids,subgrids]))"
   ],
   "metadata": {
    "collapsed": false,
    "pycharm": {
     "name": "#%%\n"
    }
   }
  },
  {
   "cell_type": "code",
   "execution_count": 9,
   "outputs": [],
   "source": [],
   "metadata": {
    "collapsed": false,
    "pycharm": {
     "name": "#%%\n"
    }
   }
  },
  {
   "cell_type": "code",
   "execution_count": 10,
   "outputs": [
    {
     "name": "stdout",
     "output_type": "stream",
     "text": [
      "[ 0  1  2  3  4  5  6  7  8  9 10 11 12 13 14 15]\n",
      "[ 8  9 10 11  4  5  6  7  0  1  2  3 12 13 14 15]\n"
     ]
    }
   ],
   "source": [
    "n_subspaces = 4\n",
    "\n",
    "coordinates_1d = np.arange(n_subspaces**2)\n",
    "# randomly arrange subspaces\n",
    "print(coordinates_1d)\n",
    "rng.shuffle(coordinates_1d.reshape([n_subspaces, n_subspaces]))\n",
    "# DO SOMETHING\n",
    "print(coordinates_1d)\n",
    "\n",
    "rng.shuffle(coordinates_1d.reshape([n_subspaces, n_subspaces]))"
   ],
   "metadata": {
    "collapsed": false,
    "pycharm": {
     "name": "#%%\n"
    }
   }
  },
  {
   "cell_type": "code",
   "execution_count": 11,
   "outputs": [
    {
     "data": {
      "text/plain": "array([12,  0,  8,  4, 13,  1,  9,  5, 14,  2, 10,  6, 15,  3, 11,  7])"
     },
     "execution_count": 11,
     "metadata": {},
     "output_type": "execute_result"
    }
   ],
   "source": [
    "coordinates_2d = coordinates_1d.reshape([n_subspaces, n_subspaces])\n",
    "coordinates_2d.T.reshape(-1)"
   ],
   "metadata": {
    "collapsed": false,
    "pycharm": {
     "name": "#%%\n"
    }
   }
  },
  {
   "cell_type": "code",
   "execution_count": 12,
   "outputs": [],
   "source": [
    "# def generate_orthogonal(real_min, real_max, im_min, im_max, subgrids, N):\n",
    "#     \"\"\" Generates a list of N orthogonally sampled complex numbers. \"\"\"\n",
    "#\n",
    "#     # empty lists to contain both parts of the complex numbers\n",
    "#     values_i = []\n",
    "#     values_r = []\n",
    "#\n",
    "#     # scale of the axes\n",
    "#     scale_im = (im_max - im_min) / N\n",
    "#     scale_real = (real_max - real_min) / N;\n",
    "#\n",
    "#     # create empty 2D arrays for orthogonal points generation\n",
    "#     xlist = [[0 for i in range(subgrids)] for j in range(subgrids)]\n",
    "#     ylist = [[0 for i in range(subgrids)] for j in range(subgrids)]\n",
    "#\n",
    "#     m = 0\n",
    "#\n",
    "#     # fill arrays\n",
    "#     for i in range(subgrids):\n",
    "#         for j in range(subgrids):\n",
    "#             xlist[i][j] = m\n",
    "#             ylist[i][j] = m\n",
    "#\n",
    "#             m += 1\n",
    "#\n",
    "#     # shuffle the arrays\n",
    "#     np.random.shuffle(xlist)\n",
    "#     np.random.shuffle(ylist)\n",
    "#     print(ylist)\n",
    "#     # at each point in the array, put a random scaled value so that each row is mutually exclusive\n",
    "#     for i in range(subgrids):\n",
    "#         for j in range(subgrids):\n",
    "#             print((xlist[j][i]))\n",
    "#             values_i.append(im_min + scale_im * (xlist[i][j] + np.random.random()))\n",
    "#             values_r.append(real_min + scale_real * (ylist[j][i] + np.random.random()))\n",
    "#\n",
    "#     return [complex(values_r[i], values_i[i]) for i in range(len(values_r))]"
   ],
   "metadata": {
    "collapsed": false,
    "pycharm": {
     "name": "#%%\n"
    }
   }
  },
  {
   "cell_type": "code",
   "execution_count": 15,
   "outputs": [],
   "source": [
    "# nat = np.array(generate_orthogonal(re_min,re_max,im_min,im_max,4,10))"
   ],
   "metadata": {
    "collapsed": false,
    "pycharm": {
     "name": "#%%\n"
    }
   }
  },
  {
   "cell_type": "code",
   "execution_count": 14,
   "outputs": [
    {
     "data": {
      "text/plain": "<Figure size 432x288 with 1 Axes>",
      "image/png": "[encoded data removed]"
     },
     "metadata": {
      "needs_background": "light"
     },
     "output_type": "display_data"
    }
   ],
   "source": [
    "rng1 = np.random.default_rng(0)\n",
    "rng2 = np.random.default_rng(1)\n",
    "new = sampling_alg.sample_ot(re_min,re_max,im_min,im_max,rng, n_samples=16,rng_2=rng2)\n",
    "plt.scatter(new.real,new.imag,color = 'red')\n",
    "# plt.scatter(nat.real, nat.imag,color='green')\n",
    "plt.scatter(real_pr,im_pr,color='blue')\n",
    "plt.scatter(real_lh,im_lh,color='green')\n",
    "plt.ylabel(\"Imaginary\")\n",
    "plt.xlabel(\"Real\")\n",
    "plt.show()\n"
   ],
   "metadata": {
    "collapsed": false,
    "pycharm": {
     "name": "#%%\n"
    }
   }
  },
  {
   "cell_type": "code",
   "execution_count": 14,
   "outputs": [],
   "source": [],
   "metadata": {
    "collapsed": false,
    "pycharm": {
     "name": "#%%\n"
    }
   }
  }
 ],
 "metadata": {
  "kernelspec": {
   "display_name": "Python 3",
   "language": "python",
   "name": "python3"
  },
  "language_info": {
   "codemirror_mode": {
    "name": "ipython",
    "version": 2
   },
   "file_extension": ".py",
   "mimetype": "text/x-python",
   "name": "python",
   "nbconvert_exporter": "python",
   "pygments_lexer": "ipython2",
   "version": "2.7.6"
  }
 },
 "nbformat": 4,
 "nbformat_minor": 0
}