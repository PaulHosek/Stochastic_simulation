{
 "cells": [
  {
   "cell_type": "code",
   "execution_count": 1,
   "metadata": {
    "collapsed": true,
    "pycharm": {
     "name": "#%%\n"
    }
   },
   "outputs": [],
   "source": [
    "import math\n",
    "\n",
    "import numpy as np\n",
    "import matplotlib.pyplot as plt\n",
    "\n",
    "import sampling_alg\n",
    "import sampling_alg as sa"
   ]
  },
  {
   "cell_type": "code",
   "execution_count": 2,
   "outputs": [],
   "source": [
    "re_min, re_max = -2, 0.47,\n",
    "im_min, im_max = -1.12, 1.12\n",
    "s = 10 ** 5 # sample size\n",
    "i = 10**4   # iterations\n",
    "N = 10"
   ],
   "metadata": {
    "collapsed": false,
    "pycharm": {
     "name": "#%%\n"
    }
   }
  },
  {
   "cell_type": "code",
   "execution_count": 3,
   "outputs": [],
   "source": [
    "rng = np.random.default_rng(0)"
   ],
   "metadata": {
    "collapsed": false,
    "pycharm": {
     "name": "#%%\n"
    }
   }
  },
  {
   "cell_type": "code",
   "execution_count": 38,
   "outputs": [
    {
     "name": "stdout",
     "output_type": "stream",
     "text": [
      "4\n"
     ]
    },
    {
     "data": {
      "text/plain": "<Figure size 576x576 with 1 Axes>",
      "image/png": "[encoded data removed]"
     },
     "metadata": {
      "needs_background": "light"
     },
     "output_type": "display_data"
    }
   ],
   "source": [
    "import math\n",
    "pure_random_sample = sampling_alg.sample_pr(re_min, re_max, im_min, im_max,rng,16,rng)\n",
    "real_pr = pure_random_sample.real\n",
    "im_pr = pure_random_sample.imag\n",
    "\n",
    "lh_sample = sampling_alg.sample_lh(re_min, re_max, im_min, im_max,rng, 16,rng)\n",
    "real_lh = lh_sample.real\n",
    "im_lh = lh_sample.imag\n",
    "n_samples = 16\n",
    "real_grid = np.linspace(re_min, re_max, n_samples + 1)\n",
    "im_grid = np.linspace(im_min, im_max, n_samples + 1)\n",
    "rng2 = np.random.default_rng(1)\n",
    "ot = sampling_alg.sample_ot(re_min,re_max,im_min,im_max,rng, n_samples=16,rng_2=rng2,antithetic=False)\n",
    "\n",
    "\n",
    "plt.figure(figsize=(8,8))\n",
    "\n",
    "for i in range(n_samples+1):\n",
    "    plt.axvline(np.linspace(re_min, re_max, n_samples+1)[i],color='black')\n",
    "    plt.axhline(np.linspace(im_min, im_max, n_samples+1)[i],color='black')\n",
    "\n",
    "for i in range(math.isqrt(n_samples)+1):\n",
    "    plt.axhline(np.linspace(im_min, im_max, math.isqrt(n_samples)+1)[i],color='royalblue')\n",
    "    plt.axvline(np.linspace(re_min, re_max, math.isqrt(n_samples)+1)[i],color='royalblue')\n",
    "print(math.isqrt(n_samples))\n",
    "plt.scatter(ot.real,ot.imag,color = 'red')\n",
    "# plt.scatter(real_pr,im_pr)\n",
    "# plt.scatter(real_lh,im_lh)\n",
    "plt.ylabel(\"Imaginary\")\n",
    "plt.xlabel(\"Real\")\n",
    "plt.show()"
   ],
   "metadata": {
    "collapsed": false,
    "pycharm": {
     "name": "#%%\n"
    }
   }
  },
  {
   "cell_type": "code",
   "execution_count": 6,
   "outputs": [
    {
     "data": {
      "text/plain": "array([-2.   , -1.753, -1.506, -1.259, -1.012, -0.765, -0.518, -0.271,\n       -0.024,  0.223,  0.47 ])"
     },
     "execution_count": 6,
     "metadata": {},
     "output_type": "execute_result"
    }
   ],
   "source": [
    "n_samples = 10\n",
    "real_grid = np.linspace(re_min, re_max, n_samples + 1)\n",
    "im_grid = np.linspace(im_min, im_max, n_samples + 1)\n",
    "real_grid"
   ],
   "metadata": {
    "collapsed": false,
    "pycharm": {
     "name": "#%%\n"
    }
   }
  },
  {
   "cell_type": "code",
   "execution_count": null,
   "outputs": [],
   "source": [],
   "metadata": {
    "collapsed": false,
    "pycharm": {
     "name": "#%%\n"
    }
   }
  },
  {
   "cell_type": "code",
   "execution_count": null,
   "outputs": [],
   "source": [
    "n_subspaces = 4\n",
    "\n",
    "coordinates_1d = np.arange(n_subspaces**2)\n",
    "# randomly arrange subspaces\n",
    "print(coordinates_1d)\n",
    "rng.shuffle(coordinates_1d.reshape([n_subspaces, n_subspaces]))\n",
    "# DO SOMETHING\n",
    "print(coordinates_1d)\n",
    "\n",
    "rng.shuffle(coordinates_1d.reshape([n_subspaces, n_subspaces]))"
   ],
   "metadata": {
    "collapsed": false,
    "pycharm": {
     "name": "#%%\n"
    }
   }
  },
  {
   "cell_type": "code",
   "execution_count": null,
   "outputs": [],
   "source": [
    "coordinates_2d = coordinates_1d.reshape([n_subspaces, n_subspaces])\n",
    "coordinates_2d.T.reshape(-1)"
   ],
   "metadata": {
    "collapsed": false,
    "pycharm": {
     "name": "#%%\n"
    }
   }
  },
  {
   "cell_type": "code",
   "execution_count": null,
   "outputs": [],
   "source": [],
   "metadata": {
    "collapsed": false,
    "pycharm": {
     "name": "#%%\n"
    }
   }
  },
  {
   "cell_type": "code",
   "execution_count": null,
   "outputs": [],
   "source": [],
   "metadata": {
    "collapsed": false,
    "pycharm": {
     "name": "#%%\n"
    }
   }
  },
  {
   "cell_type": "code",
   "execution_count": null,
   "outputs": [],
   "source": [
    "rng1 = np.random.default_rng(0)\n",
    "rng2 = np.random.default_rng(1)\n",
    "new = sampling_alg.sample_ot(re_min,re_max,im_min,im_max,rng, n_samples=100,rng_2=rng2)\n",
    "plt.scatter(new.real,new.imag,color = 'red')\n",
    "# plt.scatter(nat.real, nat.imag,color='green')\n",
    "# plt.scatter(real_pr,im_pr,color='blue')\n",
    "# plt.scatter(real_lh,im_lh,color='green')\n",
    "plt.ylabel(\"Imaginary\")\n",
    "plt.xlabel(\"Real\")\n",
    "plt.show()\n"
   ],
   "metadata": {
    "collapsed": false,
    "pycharm": {
     "name": "#%%\n"
    }
   }
  },
  {
   "cell_type": "code",
   "execution_count": null,
   "outputs": [],
   "source": [],
   "metadata": {
    "collapsed": false,
    "pycharm": {
     "name": "#%%\n"
    }
   }
  }
 ],
 "metadata": {
  "kernelspec": {
   "display_name": "Python 3",
   "language": "python",
   "name": "python3"
  },
  "language_info": {
   "codemirror_mode": {
    "name": "ipython",
    "version": 2
   },
   "file_extension": ".py",
   "mimetype": "text/x-python",
   "name": "python",
   "nbconvert_exporter": "python",
   "pygments_lexer": "ipython2",
   "version": "2.7.6"
  }
 },
 "nbformat": 4,
 "nbformat_minor": 0
}